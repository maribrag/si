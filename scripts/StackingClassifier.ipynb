{
 "cells": [
  {
   "cell_type": "code",
   "execution_count": null,
   "metadata": {},
   "outputs": [],
   "source": [
    "import sys\n",
    "sys.path.append(\"C:\\\\Users\\\\maria\\\\Documents\\\\GitHub\\\\si\")\n",
    "from src.si.io.csv_file import read_csv\n",
    "from src.si.models.knn_classifier import KNNClassifier\n",
    "from src.si.models.logistic_regression import LogisticRegression\n",
    "from src.si.models.decision_tree_classifier import DecisionTreeClassifier\n",
    "from src.si.Ensemble.stacking_classifier import StackingClassifier"
   ]
  },
  {
   "cell_type": "code",
   "execution_count": null,
   "metadata": {},
   "outputs": [],
   "source": [
    "data = read_csv('datasets//breast-bin.csv', sep=',', features=True, label=True)\n",
    "\n",
    "train_data, test_data = train_test_split(data, test_size=0.2, random_state=42)\n",
    "\n",
    "knn_model1 = KNNClassifier(k=5)\n",
    "\n",
    "logistic_model = LogisticRegression()\n",
    "\n",
    "tree_model = DecisionTreeClassifier()\n",
    "\n",
    "knn_model2 = KNNClassifier(k=3)\n",
    "\n",
    "stacking_classifier = StackingClassifier(models=[knn_model1, logistic_model, tree_model], final_model=knn_model2)\n",
    "\n",
    "stacking_classifier.fit(train_data)\n",
    "\n",
    "score = stacking_classifier.score(test_data)\n",
    "print(f\"Stacking Classifier Score on Test Set: {score}\")"
   ]
  }
 ],
 "metadata": {
  "language_info": {
   "name": "python"
  }
 },
 "nbformat": 4,
 "nbformat_minor": 2
}
