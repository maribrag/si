{
 "cells": [
  {
   "cell_type": "code",
   "execution_count": null,
   "metadata": {},
   "outputs": [],
   "source": [
    "import sys\n",
    "sys.path.append(\"C:\\\\Users\\\\maria\\\\Documents\\\\GitHub\\\\si\")\n",
    "from src.si.io.csv_file import read_csv\n",
    "from src.si.Model_selection.split import train_test_split\n",
    "from src.si.models.decision_tree_classifier import DecisionTreeClassifier"
   ]
  },
  {
   "cell_type": "code",
   "execution_count": null,
   "metadata": {},
   "outputs": [],
   "source": [
    "iris_data = read_csv('datasets//iris//iris.csv', sep=',', features=True, label=True)\n"
   ]
  },
  {
   "cell_type": "code",
   "execution_count": null,
   "metadata": {},
   "outputs": [],
   "source": [
    "train, test = train_test_split(iris_data, test_size=0.33, random_state=42)\n",
    "\n",
    "model = DecisionTreeClassifier(min_sample_split=3, max_depth=3, mode='gini')\n",
    "model.fit(train)\n",
    "\n",
    "print(\"Decision Tree:\")\n",
    "model.print_tree()\n",
    "\n",
    "accuracy = model.score(test)\n",
    "print(f\"Accuracy on the test set: {accuracy}\")"
   ]
  }
 ],
 "metadata": {
  "language_info": {
   "name": "python"
  }
 },
 "nbformat": 4,
 "nbformat_minor": 2
}
