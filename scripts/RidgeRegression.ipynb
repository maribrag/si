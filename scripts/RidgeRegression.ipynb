{
 "cells": [
  {
   "cell_type": "code",
   "execution_count": null,
   "metadata": {},
   "outputs": [],
   "source": [
    "import sys\n",
    "sys.path.append(\"C:\\\\Users\\\\maria\\\\Documents\\\\GitHub\\\\si\")\n",
    "from src.si.Data.dataset import Dataset\n",
    "from src.si.models.ridge_regression import RidgeRegression\n",
    "from src.si.io.csv_file import read_csv\n",
    "from sklearn.model_selection import train_test_split"
   ]
  },
  {
   "cell_type": "code",
   "execution_count": null,
   "metadata": {},
   "outputs": [],
   "source": [
    "cpu_data=read_csv('cpu//cpu.csv', sep=',', features=True, label=True)"
   ]
  },
  {
   "cell_type": "code",
   "execution_count": null,
   "metadata": {},
   "outputs": [],
   "source": [
    "X_train, X_test, y_train, y_test = train_test_split(cpu_data.X, cpu_data.y, test_size=0.2, random_state=42)\n",
    "\n",
    "model = RidgeRegression()\n",
    "\n",
    "model.fit(Dataset(X=X_train, y=y_train))\n",
    "\n",
    "score = model.score(Dataset(X=X_test, y=y_test))\n",
    "cost = model.cost(Dataset(X=X_test, y=y_test))\n",
    "\n",
    "print(f\"Score: {score}\")\n",
    "print(f\"Cost: {cost}\")"
   ]
  }
 ],
 "metadata": {
  "language_info": {
   "name": "python"
  }
 },
 "nbformat": 4,
 "nbformat_minor": 2
}
