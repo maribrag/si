{
 "cells": [
  {
   "cell_type": "code",
   "execution_count": null,
   "metadata": {},
   "outputs": [],
   "source": [
    "import sys\n",
    "sys.path.append(\"C:\\\\Users\\\\maria\\\\Documents\\\\GitHub\\\\si\")\n",
    "from src.si.io.csv_file import read_csv\n",
    "from src.si.Model_selection.split import train_test_split\n",
    "from src.si.models.knn_classifier import KNNClassifier\n",
    "from src.si.models.logistic_regression import LogisticRegression\n",
    "from src.si.models.decision_tree_classifier import DecisionTreeClassifier\n",
    "from src.si.Ensemble.voting_classifier import VotingClassifier\n",
    "from src.si.Model_selection.cross_validation import k_fold_cross_validation\n",
    "from src.si.Model_selection.grid_search import grid_search_cv\n",
    "from src.si.Model_selection.randomized_search import randomized_search_cv\n",
    "import numpy as np"
   ]
  },
  {
   "cell_type": "code",
   "execution_count": null,
   "metadata": {},
   "outputs": [],
   "source": [
    "data = read_csv('datasets//breast-bin.csv', sep=',', features=True, label=True)"
   ]
  },
  {
   "cell_type": "code",
   "execution_count": null,
   "metadata": {},
   "outputs": [],
   "source": [
    "train_dataset, test_dataset = train_test_split(breast_bin, test_size=0.2, random_state=0)\n",
    "knn_model = KNNClassifier(k=3)\n",
    "\n",
    "logistic_model = LogisticRegression()\n",
    "\n",
    "dt_model = DecisionTreeClassifier()\n",
    "voting = VotingClassifier([knn_model, logistic_model, dt_model])\n",
    "\n",
    "voting.fit(train_dataset)\n",
    "voting.predict(test_dataset)"
   ]
  }
 ],
 "metadata": {
  "language_info": {
   "name": "python"
  }
 },
 "nbformat": 4,
 "nbformat_minor": 2
}
