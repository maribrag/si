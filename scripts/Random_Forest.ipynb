{
 "cells": [
  {
   "cell_type": "code",
   "execution_count": null,
   "metadata": {},
   "outputs": [],
   "source": [
    "from sklearn.datasets import load_iris\n",
    "from sklearn.model_selection import train_test_split\n",
    "from sklearn.metrics import accuracy_score\n",
    "import sys\n",
    "sys.path.append(\"C:\\\\Users\\\\maria\\\\Documents\\\\GitHub\\\\si\")\n",
    "from src.si.Data.dataset import Dataset\n",
    "from src.si.models.random_forest_classifier import RandomForestClassifier\n"
   ]
  },
  {
   "cell_type": "code",
   "execution_count": null,
   "metadata": {},
   "outputs": [],
   "source": [
    "iris = load_iris()\n",
    "X = iris.data\n",
    "y = iris.target\n",
    "\n",
    "X_train, X_test, y_train, y_test = train_test_split(X, y, test_size=0.2, random_state=30)\n",
    "\n",
    "random_forest = RandomForestClassifier(n_estimators=10, max_features=None, min_sample_split=2, max_depth=None, mode='gini', seed=30)\n",
    "\n",
    "random_forest.fit(Dataset(X_train, y_train))\n",
    "\n",
    "predictions = random_forest.predict(Dataset(X_test, y_test))\n",
    "\n",
    "accuracy_test = accuracy_score(y_test, predictions)\n",
    "\n",
    "print(\"Accuracy on Iris Test Set:\", accuracy_test)"
   ]
  }
 ],
 "metadata": {
  "language_info": {
   "name": "python"
  }
 },
 "nbformat": 4,
 "nbformat_minor": 2
}
