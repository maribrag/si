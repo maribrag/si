{
 "cells": [
  {
   "cell_type": "code",
   "execution_count": 1,
   "metadata": {},
   "outputs": [
    {
     "name": "stdout",
     "output_type": "stream",
     "text": [
      "Original DataFrame:\n",
      "   feature_1  feature_2  feature_3  target\n",
      "0        5.0        8.0        2.0       4\n",
      "1        4.0        5.0        NaN       1\n",
      "2        6.0        NaN        9.0       8\n",
      "\n",
      "Filled DataFrame:\n",
      "   feature_1 feature_2 feature_3  target\n",
      "0        5.0       8.0       2.0       4\n",
      "1        4.0       5.0     value       1\n",
      "2        6.0     value       9.0       8\n",
      "\n",
      "X with missing values filled:\n",
      "[[5.0 8.0 2.0]\n",
      " [4.0 5.0 'value']\n",
      " [6.0 'value' 9.0]]\n",
      "\n",
      "y with missing values filled:\n",
      "[4 1 8]\n"
     ]
    }
   ],
   "source": [
    "import sys\n",
    "sys.path.append(\"C:\\\\Users\\\\maria\\\\Documents\\\\GitHub\\\\si\")\n",
    "from src.si.Statistics.f_classification import f_classification\n"
   ]
  },
  {
   "cell_type": "code",
   "execution_count": 2,
   "metadata": {},
   "outputs": [
    {
     "ename": "ModuleNotFoundError",
     "evalue": "No module named 'si'",
     "output_type": "error",
     "traceback": [
      "\u001b[1;31m---------------------------------------------------------------------------\u001b[0m",
      "\u001b[1;31mModuleNotFoundError\u001b[0m                       Traceback (most recent call last)",
      "Cell \u001b[1;32mIn[2], line 1\u001b[0m\n\u001b[1;32m----> 1\u001b[0m \u001b[38;5;28;01mfrom\u001b[39;00m \u001b[38;5;21;01msi\u001b[39;00m\u001b[38;5;21;01m.\u001b[39;00m\u001b[38;5;21;01mio\u001b[39;00m\u001b[38;5;21;01m.\u001b[39;00m\u001b[38;5;21;01mcsv_file\u001b[39;00m \u001b[38;5;28;01mimport\u001b[39;00m read_csv\n\u001b[0;32m      2\u001b[0m iris_data \u001b[38;5;241m=\u001b[39m file \u001b[38;5;241m=\u001b[39m read_csv(\u001b[38;5;124m'\u001b[39m\u001b[38;5;124miris.csv\u001b[39m\u001b[38;5;124m'\u001b[39m, sep\u001b[38;5;241m=\u001b[39m\u001b[38;5;124m'\u001b[39m\u001b[38;5;124m,\u001b[39m\u001b[38;5;124m'\u001b[39m, features \u001b[38;5;241m=\u001b[39m \u001b[38;5;28;01mTrue\u001b[39;00m, label \u001b[38;5;241m=\u001b[39m \u001b[38;5;28;01mTrue\u001b[39;00m)\n",
      "\u001b[1;31mModuleNotFoundError\u001b[0m: No module named 'si'"
     ]
    }
   ],
   "source": [
    "from sklearn.datasets import load_iris\n",
    "iris_data = load_iris()"
   ]
  },
  {
   "cell_type": "code",
   "execution_count": null,
   "metadata": {},
   "outputs": [],
   "source": [
    "from si.feature_selection.select_percentile import SelectPercentile\n",
    "\n",
    "selector = SelectPercentile(score_func=f_classification, percentile = 50)\n",
    "data=selector.fit_transform(iris_data)\n",
    "print(data.features)"
   ]
  },
  {
   "cell_type": "code",
   "execution_count": null,
   "metadata": {},
   "outputs": [],
   "source": [
    "selector = SelectPercentile(score_func=f_classification, percentile = 20)\n",
    "data=selector.fit_transform(iris_data)\n",
    "print(data.features)"
   ]
  },
  {
   "cell_type": "code",
   "execution_count": null,
   "metadata": {},
   "outputs": [],
   "source": [
    "selector = SelectPercentile(score_func=f_classification, percentile = 40)\n",
    "data=selector.fit_transform(iris_data)\n",
    "print(data.features)"
   ]
  },
  {
   "cell_type": "code",
   "execution_count": null,
   "metadata": {},
   "outputs": [],
   "source": [
    "selector = SelectPercentile(score_func=f_classification)\n",
    "data=selector.fit_transform(iris_data)\n",
    "print(data.features)"
   ]
  }
 ],
 "metadata": {
  "kernelspec": {
   "display_name": "base",
   "language": "python",
   "name": "python3"
  },
  "language_info": {
   "codemirror_mode": {
    "name": "ipython",
    "version": 3
   },
   "file_extension": ".py",
   "mimetype": "text/x-python",
   "name": "python",
   "nbconvert_exporter": "python",
   "pygments_lexer": "ipython3",
   "version": "3.11.5"
  }
 },
 "nbformat": 4,
 "nbformat_minor": 2
}
